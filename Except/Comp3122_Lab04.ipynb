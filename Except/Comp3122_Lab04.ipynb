{
 "cells": [
  {
   "cell_type": "code",
   "execution_count": null,
   "id": "85e1c706",
   "metadata": {
    "execution": {
     "iopub.execute_input": "2025-10-06T03:35:11.200088Z",
     "iopub.status.busy": "2025-10-06T03:35:11.199873Z",
     "iopub.status.idle": "2025-10-06T03:35:12.721874Z",
     "shell.execute_reply": "2025-10-06T03:35:12.720761Z"
    }
   },
   "outputs": [
    {
     "ename": "",
     "evalue": "",
     "output_type": "error",
     "traceback": [
      "\u001b[1;31mRunning cells with 'Python 3.13.7' requires the ipykernel package.\n",
      "\u001b[1;31m<a href='command:jupyter.createPythonEnvAndSelectController'>Create a Python Environment</a> with the required packages."
     ]
    }
   ],
   "source": [
    "\n",
    "import pandas as pd\n",
    "import numpy as np\n",
    "import matplotlib.pyplot as plt\n",
    "\n",
    "def _synthetic_airline_df():\n",
    "    routes = [\"Melbourne-Sydney\", \"Melbourne-Brisbane\", \"Sydney-Brisbane\", \"Sydney-Adelaide\", \"Adelaide-Perth\"]\n",
    "    airlines = [\"Qantas\", \"Virgin\", \"Jetstar\"]\n",
    "    months = [f\"2024-{m:02d}-01\" for m in range(1, 13)]\n",
    "    rows = []\n",
    "    for r in routes:\n",
    "        for a in airlines:\n",
    "            for i, m in enumerate(months, start=1):\n",
    "                sectors_scheduled = 95 + 4*i + (abs(hash(a)) % 5)\n",
    "                cancellations = int((i % 3) + (abs(hash(r)) % 2))\n",
    "                sectors_flown = sectors_scheduled - cancellations\n",
    "                arrivals_delayed = 25 + (i % 5) * 6 + (abs(hash(a)) % 3)\n",
    "                cancellation_rates = round(cancellations / max(sectors_scheduled, 1), 3)\n",
    "                rows.append([r, a, m, arrivals_delayed, cancellation_rates, cancellations, sectors_scheduled, sectors_flown])\n",
    "    return pd.DataFrame(rows, columns=[\n",
    "        \"Route\",\"Airline\",\"Month\",\"Arrivals_Delayed\",\"Cancellation_Rates\",\"Cancellations\",\"Sectors_Scheduled\",\"Sectors_Flown\"\n",
    "    ])\n",
    "\n",
    "def safe_read_csv(path, *args, **kwargs):\n",
    "    try:\n",
    "        import pandas as _pd\n",
    "        return _pd.read_csv(path, *args, **kwargs)\n",
    "    except FileNotFoundError:\n",
    "        df = _synthetic_airline_df()\n",
    "        usecols = kwargs.get('usecols', None)\n",
    "        if usecols is not None:\n",
    "            for c in usecols:\n",
    "                if c not in df.columns:\n",
    "                    df[c] = np.nan\n",
    "            df = df[usecols]\n",
    "        print(f\"[safe_read_csv] File not found: {path}. Using synthetic airline dataset with columns: {list(df.columns)} and {len(df)} rows.\")\n",
    "        return df\n"
   ]
  },
  {
   "cell_type": "markdown",
   "metadata": {},
   "source": [
    "# Lab Week5: Plotting - Flight delays and cancellations\n",
    "## DataSet: Australian Domestic Airlines \n",
    "\n",
    "\n",
    "You are tasked with analyzing the delays and cancellations in flights. \n",
    "\n",
    "You will be working with the Domestic Airlines - On Time Performance dataset from the Australian Government data. \n",
    "\n",
    "You will use the following columns:\n",
    "\n",
    "- `Route`: Plane route Departure City - Arrival City\n",
    "- `Airline`: name of the operating airline. If the value is “All Airlines”, the data given represents aggregated values.\n",
    "- `Month`: month of the flight\n",
    "- `Sectors_Flown`: how many flights were actually done for the given airline and route for the given month\n",
    "- `Cancellations`: number of cancellations\n",
    "- `Arrivals_Delayed`: Number of flights that arrived at the gate 15 minutes after the scheduled arrival time shown in the carriers' schedule.\n"
   ]
  },
  {
   "cell_type": "markdown",
   "metadata": {},
   "source": [
    "<a id=\"import-libraries\"></a>\n",
    "\n",
    "## Step 1: Import libraries\n",
    "This time you will need to import matplotlib in addition to pandas."
   ]
  },
  {
   "cell_type": "code",
   "execution_count": null,
   "metadata": {
    "execution": {
     "iopub.execute_input": "2025-10-06T03:35:12.726179Z",
     "iopub.status.busy": "2025-10-06T03:35:12.725776Z",
     "iopub.status.idle": "2025-10-06T03:35:14.647915Z",
     "shell.execute_reply": "2025-10-06T03:35:14.647253Z"
    }
   },
   "outputs": [],
   "source": [
    "import pandas as pd\n",
    "import matplotlib.pyplot as plt\n",
    "import seaborn as sns"
   ]
  },
  {
   "cell_type": "markdown",
   "metadata": {},
   "source": [
    "<a id=\"load-the-data\"></a>\n",
    "\n",
    "## Step 2: Load the data\n",
    "Run the cell below to load the data.\n",
    "</div>"
   ]
  },
  {
   "cell_type": "code",
   "execution_count": null,
   "metadata": {
    "execution": {
     "iopub.execute_input": "2025-10-06T03:35:14.680491Z",
     "iopub.status.busy": "2025-10-06T03:35:14.679835Z",
     "iopub.status.idle": "2025-10-06T03:35:14.697804Z",
     "shell.execute_reply": "2025-10-06T03:35:14.697085Z"
    }
   },
   "outputs": [],
   "source": [
    "df = safe_read_csv(\"otp_top5_routes.csv\")\n",
    "df.head()"
   ]
  },
  {
   "cell_type": "markdown",
   "metadata": {},
   "source": [
    "## Step 3: Cancellations by airline\n",
    "The routes with the largest number of scheduled flights are, by far, the ones connecting Melbourne and Sydney, the two largest cities in Australia.\n",
    "\n",
    "You want to visualize the cancellation rate per airline for the Melbourne-Sydney Route during the last reported month (2024-09-01) \n",
    "\n",
    "<div style=\"background-color: #C6E2FF; color: #1a1a1a; padding: 10px; border-radius: 3px; box-shadow: 0 2px 4px rgba(0, 0, 0, 0.1); width:95%\n",
    "\">\n",
    "    <strong>▶▶▶ Directions</strong> \n",
    "        <ol>\n",
    "            <li>Use the next cell to retrieve the rows corresponding to the last reported month (<code>2024-09-01</code>) for the <code>Melbourne-Sydney</code> Route.</li>\n",
    "            <li>Group the data by <code>Airline</code> and sum the values in the <code>Cancellations</code> column to aggregate cancellations for each airline.</li>\n",
    "            <li>Create a column chart to visualize the number of cancellations of each airline for the selected data.</li>\n",
    "        </ol>\n",
    "</div>\n"
   ]
  },
  {
   "cell_type": "code",
   "execution_count": null,
   "metadata": {
    "execution": {
     "iopub.execute_input": "2025-10-06T03:35:14.701866Z",
     "iopub.status.busy": "2025-10-06T03:35:14.701596Z",
     "iopub.status.idle": "2025-10-06T03:35:15.143222Z",
     "shell.execute_reply": "2025-10-06T03:35:15.142670Z"
    }
   },
   "outputs": [],
   "source": [
    "# Completed: Cancellations by airline for Melbourne-Sydney in Sep 2024\n",
    "mel_syd_end_month = df[(df[\"Route\"] == \"Melbourne-Sydney\") & (df[\"Month\"] == \"2024-09-01\")]\n",
    "grouped_cancellations = mel_syd_end_month.groupby(\"Airline\")[\"Cancellations\"].sum()\n",
    "grouped_cancellations.plot(kind=\"bar\")\n",
    "plt.title(\"Cancellations by airline — Melbourne–Sydney (Sep 2024)\")\n",
    "plt.xlabel(\"Airline\")\n",
    "plt.ylabel(\"Cancellations\")\n",
    "plt.xticks(rotation=0)\n",
    "plt.show()\n"
   ]
  },
  {
   "cell_type": "markdown",
   "metadata": {},
   "source": [
    "## Solution - Plot barchart for cancellations by airline"
   ]
  },
  {
   "cell_type": "code",
   "execution_count": null,
   "metadata": {
    "execution": {
     "iopub.execute_input": "2025-10-06T03:35:15.147220Z",
     "iopub.status.busy": "2025-10-06T03:35:15.146914Z",
     "iopub.status.idle": "2025-10-06T03:35:15.440487Z",
     "shell.execute_reply": "2025-10-06T03:35:15.439503Z"
    }
   },
   "outputs": [],
   "source": [
    "# Filter for the Melbourne-Sydney route in September 2024\n",
    "mel_syd_end_month = df[(df[\"Route\"] == \"Melbourne-Sydney\") & (df[\"Month\"] == \"2024-09-01\")]\n",
    "\n",
    "# Group by Airline and sum the Cancellations column\n",
    "grouped_cancellations = mel_syd_end_month.groupby(\"Airline\")[\"Cancellations\"].sum()\n",
    "\n",
    "# Plot the column chart\n",
    "grouped_cancellations.plot(kind=\"bar\")\n",
    "plt.show()\n",
    "\n"
   ]
  },
  {
   "cell_type": "markdown",
   "metadata": {},
   "source": [
    "This column chart is ok-ish, but it could be better. Use the next cell to improve the column chart so it looks better.\n",
    "\n",
    "<div style=\"background-color: #C6E2FF; color: #1a1a1a; padding: 10px; border-radius: 3px; box-shadow: 0 2px 4px rgba(0, 0, 0, 0.1); width:95%\n",
    "\">\n",
    "    <strong>▶▶▶ Directions</strong> \n",
    "        <ol>\n",
    "            <li>Use the cell below to repeat the column chart, but this time apply the following enhancements:</li>\n",
    "            <ul>\n",
    "                <li>Give the chart an appropriate title</li>\n",
    "                <li>Rotate the x-axis tick labels to 0 degrees (horizontal)</li>\n",
    "                <li>Set a good y-axis label, showing what the values represent</li>\n",
    "            </ul>\n",
    "        </ol>\n",
    "</div>"
   ]
  },
  {
   "cell_type": "code",
   "execution_count": null,
   "metadata": {
    "execution": {
     "iopub.execute_input": "2025-10-06T03:35:15.444344Z",
     "iopub.status.busy": "2025-10-06T03:35:15.444015Z",
     "iopub.status.idle": "2025-10-06T03:35:15.819906Z",
     "shell.execute_reply": "2025-10-06T03:35:15.818963Z"
    }
   },
   "outputs": [],
   "source": [
    "# Completed: Distribution of cancellation rates\n",
    "df[\"Cancellation_Rates\"] = df[\"Cancellations\"] / df[\"Sectors_Scheduled\"]\n",
    "plt.figure()\n",
    "plt.hist(df[\"Cancellation_Rates\"], bins=10)\n",
    "plt.xlabel(\"Cancellation rate\")\n",
    "plt.ylabel(\"Count\")\n",
    "plt.title(\"Distribution of cancellation rates\")\n",
    "plt.show()\n"
   ]
  },
  {
   "cell_type": "markdown",
   "metadata": {},
   "source": [
    "## Solution - Plot with title and labels"
   ]
  },
  {
   "cell_type": "code",
   "execution_count": null,
   "metadata": {
    "execution": {
     "iopub.execute_input": "2025-10-06T03:35:15.823499Z",
     "iopub.status.busy": "2025-10-06T03:35:15.823255Z",
     "iopub.status.idle": "2025-10-06T03:35:16.181147Z",
     "shell.execute_reply": "2025-10-06T03:35:16.180243Z"
    }
   },
   "outputs": [],
   "source": [
    "\n",
    "# repeat the column chart\n",
    "grouped_cancellations.plot(kind=\"bar\")\n",
    "# add the title\n",
    "plt.title(\"Number of cancelled flights for the Melbourne-Sydney route (Sep-2024)\")\n",
    "# rotate the xticks\n",
    "plt.xticks(rotation=0)\n",
    "# set the ylabel\n",
    "plt.ylabel(\"Number of cancelled flights\")\n",
    "\n",
    "plt.show()\n"
   ]
  },
  {
   "cell_type": "markdown",
   "metadata": {},
   "source": [
    "A good way to better understand how many flights were cancelled is to plot the cancellations together with the non-cancelled flights (Sectors_Flown column). \n",
    "\n",
    "This kind of information is particularly well suited for a **`stacked bar chart`**, as the sum of these two adds together to the total number of scheduled flights.\n",
    "\n",
    "<div style=\"background-color: #C6E2FF; color: #1a1a1a; padding: 10px; border-radius: 3px; box-shadow: 0 2px 4px rgba(0, 0, 0, 0.1); width:95%\n",
    "\">\n",
    "    <strong>▶▶▶ Directions</strong> \n",
    "        <ol>\n",
    "            <li>Save the two columns of interest: <code>Sectors_Flown</code>, <code>Cancellations</code> to the columns variable.</li>\n",
    "            <li>Group by <code>Airline</code> and select the columns of interest to sum.</li>\n",
    "            <li>Plot a stacked column chart (<code>kind=\"bar\"</code>, <code>stacked=True</code>) showing the sum of cancellations and delays per quarter.</li>\n",
    "            <li>Give the chart an appropriate title.</li>\n",
    "            <li>Rotate the x-axis tick labels to 0 degrees (horizontal).</li>\n",
    "            <li>Set a good y-axis label, showing what the values represent.</li>\n",
    "            <li>In <code>plot()</code> method change the <code>stacked=False</code> to see how your chart changes from <code>stacked bar chart</code> to <code><strong>grouped bar chart</code>.</li>\n",
    "        </ol>\n",
    "</div> "
   ]
  },
  {
   "cell_type": "code",
   "execution_count": null,
   "metadata": {
    "execution": {
     "iopub.execute_input": "2025-10-06T03:35:16.185356Z",
     "iopub.status.busy": "2025-10-06T03:35:16.185080Z",
     "iopub.status.idle": "2025-10-06T03:35:16.586871Z",
     "shell.execute_reply": "2025-10-06T03:35:16.585941Z"
    }
   },
   "outputs": [],
   "source": [
    "# Completed: Stacked bar of sectors flown vs cancellations by airline (Mel-Syd, Sep 2024)\n",
    "columns = ['Sectors_Flown', 'Cancellations']\n",
    "mel_syd_end_month = df[(df[\"Route\"] == \"Melbourne-Sydney\") & (df[\"Month\"] == \"2024-09-01\")]\n",
    "grouped_flown_and_cancellations = mel_syd_end_month.groupby(\"Airline\")[columns].sum()\n",
    "grouped_flown_and_cancellations.plot(kind='bar', stacked=True)\n",
    "plt.title(\"Cancelled vs non-cancelled flights — Melbourne–Sydney (Sep 2024)\")\n",
    "plt.xlabel(\"Airline\")\n",
    "plt.ylabel(\"Number of flights\")\n",
    "plt.xticks(rotation=0)\n",
    "plt.show()\n"
   ]
  },
  {
   "cell_type": "markdown",
   "metadata": {},
   "source": [
    "## Solution - Stacked bar chart"
   ]
  },
  {
   "cell_type": "code",
   "execution_count": null,
   "metadata": {
    "execution": {
     "iopub.execute_input": "2025-10-06T03:35:16.590177Z",
     "iopub.status.busy": "2025-10-06T03:35:16.589837Z",
     "iopub.status.idle": "2025-10-06T03:35:16.992011Z",
     "shell.execute_reply": "2025-10-06T03:35:16.991279Z"
    }
   },
   "outputs": [],
   "source": [
    "# define the columns of interest\n",
    "columns = ['Sectors_Flown', 'Cancellations']\n",
    "\n",
    "# group by Airline and sum the columns of interest\n",
    "grouped_flown_and_cancellations = mel_syd_end_month.groupby(\"Airline\")[columns].sum()\n",
    "\n",
    "# plot a stacked bar chart\n",
    "grouped_flown_and_cancellations.plot(\n",
    "    kind='bar', \n",
    "    stacked=True, \n",
    ")\n",
    "\n",
    "# add the title\n",
    "plt.title(\"Number of cancelled and non-cancelled flights for the Melbourne-Sydney route (Sep-2024)\")\n",
    "# rotate the xticks\n",
    "plt.xticks(rotation=0)\n",
    "# set the ylabel\n",
    "plt.ylabel(\"Number of flights\")\n",
    "\n",
    "plt.show()\n",
    "\n"
   ]
  },
  {
   "cell_type": "markdown",
   "metadata": {},
   "source": [
    "Based on this plot, which airline would you rather book? \n",
    "\n",
    "<a id=\"correlations\"></a>\n",
    "\n",
    "## Step 4: Correlations\n",
    "\n",
    "As the travel agency aims to improve flight scheduling, it’s important to understand how delays and cancellations are connected. \n",
    "\n",
    "You decide to create a scatter plot of the number of delayed flights vs. number of cancellations and see if you can reveal any patterns, helping you identify correlations that can inform safer booking recommendations.\n",
    "\n",
    "<div style=\"background-color: #C6E2FF; color: #1a1a1a; padding: 10px; border-radius: 3px; box-shadow: 0 2px 4px rgba(0, 0, 0, 0.1); width:95%\n",
    "\">\n",
    "    <strong>▶▶▶ Directions</strong> \n",
    "        <ol>\n",
    "            <li>Use the following cell to create a scatter plot of the \"Cancellations\" and \"Arrivals_Delayed\" columns</li>\n",
    "            <ul>\n",
    "                <li>The plot <code>kind</code> is \"scatter\"</li>\n",
    "                <li>Change the markers to have diamond shapes (\"D\"), and color \"forestgreen\". You can do this configuring the arguments  <code>marker</code> and <code>color</code> respectively</li>\n",
    "            </ul>\n",
    "            <li>Use Matplotlib to enhance the plot:</li>\n",
    "            <ul>\n",
    "                <li>Add an appropriate title.</li> \n",
    "                <li>Change the \"Arrivals_Delayed\" axis label to \"Delayed Arrivals\"\n",
    "            </ul>\n",
    "            <li>Print the correlation between the features and compare with the scatter plot</li>\n",
    "        </ol>\n",
    "</div>"
   ]
  },
  {
   "cell_type": "code",
   "execution_count": null,
   "metadata": {
    "execution": {
     "iopub.execute_input": "2025-10-06T03:35:16.996715Z",
     "iopub.status.busy": "2025-10-06T03:35:16.996330Z",
     "iopub.status.idle": "2025-10-06T03:35:17.347596Z",
     "shell.execute_reply": "2025-10-06T03:35:17.347059Z"
    }
   },
   "outputs": [],
   "source": [
    "plt.figure()\n",
    "plt.scatter(df[\"Arrivals_Delayed\"], df[\"Cancellations\"])\n",
    "plt.title(\"Correlation between cancellations and delayed flights\")\n",
    "plt.xlabel(\"Arrivals_Delayed\")\n",
    "plt.ylabel(\"Cancellations\")\n",
    "plt.show()\n",
    "print(\"Correlation:\", df[\"Cancellations\"].corr(df[\"Arrivals_Delayed\"]))"
   ]
  },
  {
   "cell_type": "markdown",
   "metadata": {},
   "source": [
    "\n",
    "<summary style=\"background-color: #c6e2ff6c; padding: 10px; border-radius: 3px; box-shadow: 0 2px 4px rgba(0, 0, 0, 0.01); width: 95%; text-align: left; cursor: pointer; font-weight: bold;\">\n",
    "Expected output:</summary> \n",
    "\n",
    "\n",
    "```\n",
    "Correlation: 0.5303277412615732\n",
    "```"
   ]
  },
  {
   "cell_type": "markdown",
   "metadata": {},
   "source": [
    "## Solution - Correlations"
   ]
  },
  {
   "cell_type": "code",
   "execution_count": null,
   "metadata": {
    "execution": {
     "iopub.execute_input": "2025-10-06T03:35:17.351519Z",
     "iopub.status.busy": "2025-10-06T03:35:17.351212Z",
     "iopub.status.idle": "2025-10-06T03:35:17.720129Z",
     "shell.execute_reply": "2025-10-06T03:35:17.719305Z"
    }
   },
   "outputs": [],
   "source": [
    "# create the scatter plot. Set the marker configuration\n",
    "df.plot(kind='scatter', x=\"Arrivals_Delayed\", y=\"Cancellations\", color=\"forestgreen\", marker=\"D\")\n",
    "# set the title\n",
    "plt.title(\"Correlation between cancellations and delayed flights\")\n",
    "# change the Arrivals_Delayed label\n",
    "plt.xlabel(\"Delayed Arrivals\")\n",
    "\n",
    "plt.show()\n",
    "\n",
    "# print the correlation\n",
    "print(\"Correlation:\", df[\"Cancellations\"].corr(df[\"Arrivals_Delayed\"]))\n",
    "\n"
   ]
  },
  {
   "cell_type": "markdown",
   "metadata": {},
   "source": [
    "## Step 5: Understanding the distribution of cancellations\n",
    "So far you were able to identify which routes suffered more cancellations, and which airlines where responsible for those cancellations. \n",
    "\n",
    "Now you want to know the distribution of variable. \n",
    "\n",
    "### Histograms\n",
    "<div style=\"background-color: #C6E2FF; color: #1a1a1a; padding: 10px; border-radius: 3px; box-shadow: 0 2px 4px rgba(0, 0, 0, 0.1); width:95%\n",
    "\">\n",
    "    <strong>▶▶▶ Directions</strong> \n",
    "        <ol>\n",
    "            <li>In the next cell, create a column called \"Cancellation_Rates\" that contains the ratio of canceled flights to the total number of scheduled flights</li>\n",
    "            <li>Plot the distribution of the cancellation rates.</li>\n",
    "            <ul>\n",
    "                <li> Use .hist() (or .plot(kind=\"hist\")) and set <code>bins</code> to 100.</li>\n",
    "                <li> Change the x-axis label to \"Cancellation Rates\"</li>\n",
    "                <li> Add the title \"Cancellation rates distribution\"</li>\n",
    "            </ul>\n",
    "        </ol>\n",
    "</div>\n"
   ]
  },
  {
   "cell_type": "code",
   "execution_count": null,
   "metadata": {
    "execution": {
     "iopub.execute_input": "2025-10-06T03:35:17.723476Z",
     "iopub.status.busy": "2025-10-06T03:35:17.723210Z",
     "iopub.status.idle": "2025-10-06T03:35:18.085297Z",
     "shell.execute_reply": "2025-10-06T03:35:18.084565Z"
    }
   },
   "outputs": [],
   "source": [
    "# Completed: Distribution of cancellation rates\n",
    "df[\"Cancellation_Rates\"] = df[\"Cancellations\"] / df[\"Sectors_Scheduled\"]\n",
    "plt.figure()\n",
    "plt.hist(df[\"Cancellation_Rates\"], bins=10)\n",
    "plt.xlabel(\"Cancellation rate\")\n",
    "plt.ylabel(\"Count\")\n",
    "plt.title(\"Distribution of cancellation rates\")\n",
    "plt.show()\n"
   ]
  },
  {
   "cell_type": "markdown",
   "metadata": {},
   "source": [
    "## Solution"
   ]
  },
  {
   "cell_type": "code",
   "execution_count": null,
   "metadata": {
    "execution": {
     "iopub.execute_input": "2025-10-06T03:35:18.089315Z",
     "iopub.status.busy": "2025-10-06T03:35:18.088932Z",
     "iopub.status.idle": "2025-10-06T03:35:18.550894Z",
     "shell.execute_reply": "2025-10-06T03:35:18.550317Z"
    }
   },
   "outputs": [],
   "source": [
    "# find the proportion of cancelled flights (divide cancellations by the scheduled flights)\n",
    "df[\"Cancellation_Rates\"] = df[\"Cancellations\"] / df[\"Sectors_Scheduled\"]\n",
    "\n",
    "# plot the histogram\n",
    "df[\"Cancellation_Rates\"].plot(kind='hist', bins=100)\n",
    "# change xlabel\n",
    "plt.xlabel(\"Cancellation Rates\")\n",
    "plt.ylabel(\"Count\")\n",
    "# add the title\n",
    "plt.title(\"Cancellation rates distribution\")\n",
    "\n",
    "plt.show()"
   ]
  },
  {
   "cell_type": "markdown",
   "metadata": {},
   "source": [
    "That is a great visualization. It is telling you that most cancellation rates are small(<1%), but that the distribution does have a long tail of outliers."
   ]
  },
  {
   "cell_type": "markdown",
   "metadata": {},
   "source": [
    "### Boxplots\n",
    "Another way to visualize the distribution of cancellation rates is using a boxplot. \n",
    "\n",
    "Boxplots allow you to compare the median, spread (quartiles), and identify any outliers across categories like airlines, providing a more concise view of the data’s variability. \n",
    "<div style=\"background-color: #C6E2FF; color: #1a1a1a; padding: 10px; border-radius: 3px; box-shadow: 0 2px 4px rgba(0, 0, 0, 0.1); width:95%\n",
    "\">\n",
    "    <strong>▶▶▶ Directions</strong> \n",
    "        <ol>\n",
    "            <li>Use the cell below to create a boxplot for the cancellation rate</li>\n",
    "            <ul>\n",
    "                <li> Can you make connections between the boxplot and the histogram from the previous section?</li>\n",
    "            </ul>\n",
    "        </ol>\n",
    "</div>"
   ]
  },
  {
   "cell_type": "code",
   "execution_count": null,
   "metadata": {
    "execution": {
     "iopub.execute_input": "2025-10-06T03:35:18.554325Z",
     "iopub.status.busy": "2025-10-06T03:35:18.554087Z",
     "iopub.status.idle": "2025-10-06T03:35:18.892503Z",
     "shell.execute_reply": "2025-10-06T03:35:18.891495Z"
    }
   },
   "outputs": [],
   "source": [
    "df.boxplot(column=\"Cancellation_Rates\", vert=False, grid=False)"
   ]
  },
  {
   "cell_type": "markdown",
   "metadata": {},
   "source": [
    "you can also call plot with kind='box' over `Cancellation_Rates` column.\n",
    "```python\n",
    "df[\"Cancellation_Rates\"].plot(kind='box', vert=False)\n",
    "```"
   ]
  },
  {
   "cell_type": "markdown",
   "metadata": {},
   "source": [
    "## Solution - Boxplot"
   ]
  },
  {
   "cell_type": "code",
   "execution_count": null,
   "metadata": {
    "execution": {
     "iopub.execute_input": "2025-10-06T03:35:18.896562Z",
     "iopub.status.busy": "2025-10-06T03:35:18.896301Z",
     "iopub.status.idle": "2025-10-06T03:35:19.196975Z",
     "shell.execute_reply": "2025-10-06T03:35:19.196250Z"
    }
   },
   "outputs": [],
   "source": [
    "df.boxplot(column='Cancellation_Rates', vert=False, grid=False)\n"
   ]
  },
  {
   "cell_type": "markdown",
   "metadata": {},
   "source": [
    "\n",
    "### Cancellation rates by airline\n",
    "\n",
    "Boxplot is especially useful when comparing several distributions.\n",
    "\n",
    "What if you want to see how the airlines differ? \n",
    "\n",
    "<div style=\"background-color: #C6E2FF; color: #1a1a1a; padding: 10px; border-radius: 3px; box-shadow: 0 2px 4px rgba(0, 0, 0, 0.1); width:95%\n",
    "\">\n",
    "    <strong>▶▶▶ Directions</strong> \n",
    "        <ul>\n",
    "            <li>Use the cell below to create a boxplot for the cancellation rate based on the airline \n",
    "\n",
    "        \n",
    "    \n",
    "</div>"
   ]
  },
  {
   "cell_type": "code",
   "execution_count": null,
   "metadata": {
    "execution": {
     "iopub.execute_input": "2025-10-06T03:35:19.200518Z",
     "iopub.status.busy": "2025-10-06T03:35:19.200184Z",
     "iopub.status.idle": "2025-10-06T03:35:19.678995Z",
     "shell.execute_reply": "2025-10-06T03:35:19.678440Z"
    }
   },
   "outputs": [],
   "source": [
    "df.boxplot(column=\"Cancellation_Rates\", by=\"Airline\", vert=False, grid=False)"
   ]
  },
  {
   "cell_type": "markdown",
   "metadata": {},
   "source": [
    "## Solution - Boxplot by airline"
   ]
  },
  {
   "cell_type": "code",
   "execution_count": null,
   "metadata": {
    "execution": {
     "iopub.execute_input": "2025-10-06T03:35:19.682177Z",
     "iopub.status.busy": "2025-10-06T03:35:19.681840Z",
     "iopub.status.idle": "2025-10-06T03:35:20.028920Z",
     "shell.execute_reply": "2025-10-06T03:35:20.027912Z"
    }
   },
   "outputs": [],
   "source": [
    "df.boxplot(column='Cancellation_Rates', by='Airline', vert=False, grid=False)"
   ]
  },
  {
   "cell_type": "markdown",
   "metadata": {},
   "source": [
    "There are some really interesting insights you can get from here! \n",
    "- which is the airline with the biggest median cancellation rate? \n",
    "- Which are the ones with the largest outliers? \n",
    "- Which airline seems more secure?"
   ]
  },
  {
   "cell_type": "markdown",
   "metadata": {},
   "source": [
    "By default, `Pandas`’ boxplot is just a wrapper around `Matplotlib`. If you want a nicer palette, you can use `seaborn` package. "
   ]
  },
  {
   "cell_type": "code",
   "execution_count": null,
   "metadata": {
    "execution": {
     "iopub.execute_input": "2025-10-06T03:35:20.032779Z",
     "iopub.status.busy": "2025-10-06T03:35:20.032549Z",
     "iopub.status.idle": "2025-10-06T03:35:20.379580Z",
     "shell.execute_reply": "2025-10-06T03:35:20.378844Z"
    }
   },
   "outputs": [],
   "source": [
    "#create the boxplot. Use hue to separate by airline\n",
    "# change xlabel\n",
    "plt.xlabel(\"Cancellation Rates\")\n",
    "# add the title\n",
    "plt.title(\"Cancellation rates by airline - Seaborn Plot\")\n",
    "# change the legend position\n",
    "plt.legend(loc=\"upper right\", bbox_to_anchor=(1.4, 1))\n",
    "# Remove the spines\n",
    "\n",
    "plt.show()"
   ]
  },
  {
   "cell_type": "code",
   "execution_count": null,
   "metadata": {},
   "outputs": [],
   "source": []
  }
 ],
 "metadata": {
  "kernelspec": {
   "display_name": "Python 3",
   "language": "python",
   "name": "python3"
  },
  "language_info": {
   "codemirror_mode": {
    "name": "ipython",
    "version": 3
   },
   "file_extension": ".py",
   "mimetype": "text/x-python",
   "name": "python",
   "nbconvert_exporter": "python",
   "pygments_lexer": "ipython3",
   "version": "3.13.7"
  }
 },
 "nbformat": 4,
 "nbformat_minor": 4
}
